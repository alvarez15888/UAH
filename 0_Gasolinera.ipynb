{
 "cells": [
  {
   "cell_type": "code",
   "execution_count": null,
   "id": "40d7dd8d",
   "metadata": {},
   "outputs": [],
   "source": [
    "import pandas as pd\n",
    "import seaborn as sns\n",
    "import numpy as np\n",
    "import matplotlib.pyplot as plt\n",
    "import datetime\n",
    "from time import time\n",
    "import folium"
   ]
  },
  {
   "cell_type": "code",
   "execution_count": null,
   "id": "95312861",
   "metadata": {},
   "outputs": [],
   "source": [
    "names = lambda o, txt = \"\": print([name for name in dir(o) if name[0] != \"_\" and txt in name])\n",
    "names([])"
   ]
  },
  {
   "cell_type": "code",
   "execution_count": null,
   "id": "fe35fdd7",
   "metadata": {},
   "outputs": [],
   "source": [
    "start_time = time()"
   ]
  },
  {
   "cell_type": "code",
   "execution_count": null,
   "id": "2b63c9a5",
   "metadata": {},
   "outputs": [],
   "source": [
    "url = \"https://geoportalgasolineras.es/resources/files/preciosEESS_es.xls\"\n",
    "%time data = pd.read_excel(url)\n",
    "data.head(3)"
   ]
  },
  {
   "cell_type": "code",
   "execution_count": null,
   "id": "0b426845",
   "metadata": {},
   "outputs": [],
   "source": [
    "%run Funciones_Gasolinera.ipynb\n",
    "data1 = clear_data(data)\n",
    "data2 = work_data(data1)\n",
    "data3 = change_for_float(data2)\n",
    "data4 = coordinate_foliumap(data3)\n",
    "df = insert_comunity(data4)"
   ]
  },
  {
   "cell_type": "code",
   "execution_count": null,
   "id": "d14cc6b8",
   "metadata": {},
   "outputs": [],
   "source": [
    "df.head()"
   ]
  },
  {
   "cell_type": "code",
   "execution_count": null,
   "id": "2cb46bb4",
   "metadata": {},
   "outputs": [],
   "source": [
    "df.info()"
   ]
  },
  {
   "cell_type": "code",
   "execution_count": null,
   "id": "5664c771",
   "metadata": {},
   "outputs": [],
   "source": [
    "# Filter D.F. for any values\n",
    "#df1 = df[(df.Provincia == \"PONTEVEDRA\") & (df.G95 < 1.43)].sort_values(by = \"G95\", ascending = True)\n",
    "df1 = df[(df.Comunidad_Autonoma == 'CASTILLA Y LEON') & (df.G95 < 1.50) & (df.Rótulo == \"CEPSA\")].sort_values(by = \"G95\", ascending = True)\n",
    "df1"
   ]
  },
  {
   "cell_type": "code",
   "execution_count": null,
   "id": "194d7dc7",
   "metadata": {},
   "outputs": [],
   "source": [
    "# create map\n",
    "españa_map = folium.Map(location=[40.463667, -3.74922], zoom_start=7)\n",
    "\n",
    "# instantiate a feature group for the incidents in the dataframe\n",
    "values = folium.map.FeatureGroup()\n",
    "\n",
    "# loop through the 100 crimes and add each to the incidents feature group\n",
    "for lat, lng, in zip(df1.X, df1.Y):\n",
    "    values.add_child(\n",
    "        folium.features.CircleMarker(\n",
    "            [lat, lng],\n",
    "            radius=4, # define how big you want the circle markers to be\n",
    "            color='yellow',\n",
    "            fill=True,\n",
    "            fill_color='blue',\n",
    "            fill_opacity=0.6\n",
    "        )\n",
    "    )\n",
    "\n",
    "\n",
    "\n",
    "# add pop-up text to each marker on the map\n",
    "latitudes = list(df1.X)\n",
    "longitudes = list(df1.Y)\n",
    "labels = list(df1.Rótulo)\n",
    "\n",
    "for lat, lng, label in zip(latitudes, longitudes, labels):\n",
    "    folium.Marker([lat, lng], popup=label).add_to(españa_map)    \n",
    "    \n",
    "# add incidents to map\n",
    "españa_map.add_child(values)"
   ]
  }
 ],
 "metadata": {
  "kernelspec": {
   "display_name": "Python 3",
   "language": "python",
   "name": "python3"
  },
  "language_info": {
   "codemirror_mode": {
    "name": "ipython",
    "version": 3
   },
   "file_extension": ".py",
   "mimetype": "text/x-python",
   "name": "python",
   "nbconvert_exporter": "python",
   "pygments_lexer": "ipython3",
   "version": "3.8.8"
  }
 },
 "nbformat": 4,
 "nbformat_minor": 5
}
